{
 "cells": [
  {
   "cell_type": "markdown",
   "id": "wooden-directory",
   "metadata": {},
   "source": [
    "# TUTORIALS\n",
    "\n",
    "- [TUTORIALS](#tutorials)\n",
    "  - [Overview](#overview)\n",
    "  - [Installation and Deployment](#installation-and-deployment)\n",
    "  - [Quick Start](#quick-start)\n",
    "  - [Secure Multi-Party Computation](#secure-multi-party-computation)\n",
    "    - [Millionaires' Problem](#millionaires-problem)\n",
    "      - [TensorFlow Version](#tensorflow-version)\n",
    "      - [Rosetta Version](#rosetta-version)\n",
    "  - [Privacy-Preserving Machine Learning](#privacy-preserving-machine-learning)\n",
    "    - [Linear Regression](#linear-regression)\n",
    "      - [TensorFlow Version](#tensorflow-version-1)\n",
    "      - [Rosetta Basic Version](#rosetta-basic-version)\n",
    "      - [Rosetta Version-with Reveal](#rosetta-version-with-reveal)\n",
    "      - [Comparison and Evaluation 1](#comparison-and-evaluation-1)\n",
    "      - [Comparison and Evaluation 2](#comparison-and-evaluation-2)\n",
    "      - [Model Saving](#model-saving)\n",
    "      - [Model Loading and Prediction](#model-loading-and-prediction)\n",
    "    - [Logistic Regression](#logistic-regression)\n",
    "    - [Support big data sets](#support-big-data-sets)\n",
    "  - [Conclusion](#conclusion)\n",
    "  - [Additional Notes](#additional-notes)\n",
    "    - [Dataset Description](#dataset-description)\n",
    "\n",
    "## Overview\n",
    "\n",
    "## Installation and Deployment\n",
    "\n",
    "If you have not set up a `rosetta` environment yet, please refer to [Deployment Document](./DEPLOYMENT.ipynb).\n",
    "\n",
    "In order to simplify the description of this tutorial, the examples below are based on `single machine with multiple nodes` mode, please refer to `Deployment Documentation` for deployment in this way.\n",
    "\n",
    "## Quick Start\n",
    "\n",
    "All of the following content is based on the previous installation and deployment you have completed. For saving time, please make sure that your environment is already `OK`.\n",
    "\n",
    "Unless otherwise noted, all commands are run in the path of `example/tutorials/code/`.\n",
    "\n",
    "<br/>\n",
    "\n",
    "Now, let us enter this exciting moment together: how to use `rosetta` in the easiest way?\n",
    "\n",
    "The steps are very simple. Whenever you want to use `rosetta` (`Python` script file), just import our `rosetta` package, as follows:"
   ]
  },
  {
   "cell_type": "markdown",
   "id": "inside-island",
   "metadata": {},
   "source": [
    "```python\n",
    "import latticex.rosetta as rtt\n",
    "```\n"
   ]
  },
  {
   "cell_type": "markdown",
   "id": "ancient-penetration",
   "metadata": {},
   "source": [
    "<font style = \"color: green\"> Note: </font>\n",
    "\n",
    "`rtt` is short for `rosetta`, just like `tf` for `tensorflow`, `np` for `numpy`, `pd` for `pandas` . Let's just view this as a convention.\n",
    "\n",
    "<br/>\n",
    "\n",
    "You can run directly in the same terminal, as follows:"
   ]
  },
  {
   "cell_type": "markdown",
   "id": "entertaining-framework",
   "metadata": {},
   "source": [
    "```sh\n",
    "./tutorials.sh rtt quickstart\n",
    "```\n"
   ]
  },
  {
   "cell_type": "markdown",
   "id": "controlled-demonstration",
   "metadata": {},
   "source": [
    "Or, you can run the following program on three different terminals (just to simulate the scenario that three different parties are running on their own private data on their own machine):"
   ]
  },
  {
   "cell_type": "markdown",
   "id": "sitting-providence",
   "metadata": {},
   "source": [
    "```sh\n",
    "# node 0\n",
    "python3 quickstart.py --party_id=0\n",
    "```\n"
   ]
  },
  {
   "cell_type": "markdown",
   "id": "theoretical-vietnam",
   "metadata": {},
   "source": [
    "```sh\n",
    "# node 1\n",
    "python3 quickstart.py --party_id=1\n",
    "```\n"
   ]
  },
  {
   "cell_type": "markdown",
   "id": "empty-healing",
   "metadata": {},
   "source": [
    "```sh\n",
    "# node 2\n",
    "python3 quickstart.py --party_id=2\n",
    "```\n"
   ]
  },
  {
   "cell_type": "markdown",
   "id": "nearby-castle",
   "metadata": {},
   "source": [
    "If you see `DONE!` in the output, you have accomplished the first goal.\n",
    "\n",
    "> `--party_id` This is a command line option that specifies which role the current running script is playing.\n",
    "\n",
    "> In the following, in order to describe examples concisely, we will just directly uses `./tutorials.sh` to show that we are running the three steps above.\n",
    "\n",
    "<br/>\n",
    "\n",
    "The following tutorial is just as easy as this `Quick Start`. Let's continue.\n",
    "\n",
    "## Secure Multi-Party Computation\n",
    "\n",
    "Let's assume that there are `two` `honest` rich millionaires who are discussing on `who has more wealth`, while neither of them wants to tell the other one the specific number on their bank account. What can I do? I can't help it, but `Rosetta` can help you. Now, let's try to solve this problem.\n",
    "\n",
    "### Millionaires' Problem\n",
    "\n",
    "The problem we have just proposed is a famous example in MPC, called [Yao's Millionaires' Problem](https://en.wikipedia.org/wiki/Yao%27s_Millionaires%27_Problem).\n",
    "\n",
    "Let‘s be a little more specific. In the following example, we will introduce two millionaires, one called `Alice` and the other called `Bob`, have `$2000001` and `$2000000` respectively. You see, the difference between the two people's wealth is just `one` dollars.\n",
    "\n",
    "#### TensorFlow Version\n",
    "\n",
    "For comparison，Let's just solve this problem without taking their privacy into consideration at first.\n",
    "\n",
    "This is trivial, every child can do this in less than one second. But in order to compare with `rosetta`, here we write a toy program in `tensorflow` style:\n",
    "\n",
    "The first step is to import the package:"
   ]
  },
  {
   "cell_type": "markdown",
   "id": "current-georgia",
   "metadata": {},
   "source": [
    "```py\n",
    "import tensorflow as tf\n",
    "```\n"
   ]
  },
  {
   "cell_type": "markdown",
   "id": "reduced-rebound",
   "metadata": {},
   "source": [
    "The second step is to set how much wealth each has:"
   ]
  },
  {
   "cell_type": "markdown",
   "id": "resistant-bermuda",
   "metadata": {},
   "source": [
    "```py\n",
    "Alice = tf.Variable(2000001)\n",
    "Bob = tf.Variable(2000000)\n",
    "```\n"
   ]
  },
  {
   "cell_type": "markdown",
   "id": "civil-novelty",
   "metadata": {},
   "source": [
    "The third step is to call `session.run` and check the results:"
   ]
  },
  {
   "cell_type": "markdown",
   "id": "interstate-simpson",
   "metadata": {},
   "source": [
    "```py\n",
    "res = tf.greater(Alice, Bob)\n",
    "init = tf.global_variables_initializer()\n",
    "with tf.Session() as sess:\n",
    "   sess.run(init)\n",
    "   ret = sess.run(res)\n",
    "   print(\"ret:\", ret)  # ret: True\n",
    "```\n"
   ]
  },
  {
   "cell_type": "markdown",
   "id": "devoted-final",
   "metadata": {},
   "source": [
    "Refer to [tf-millionaire.py](../example/tutorials/code/tf-millionaire.py) for the full version.\n",
    "\n",
    "And now, we run this program as follows:"
   ]
  },
  {
   "cell_type": "markdown",
   "id": "united-rebate",
   "metadata": {},
   "source": [
    "```sh\n",
    "./tutorials.sh tf millionaire\n",
    "```\n"
   ]
  },
  {
   "cell_type": "markdown",
   "id": "falling-constraint",
   "metadata": {},
   "source": [
    "The output will show:"
   ]
  },
  {
   "cell_type": "markdown",
   "id": "compatible-concept",
   "metadata": {},
   "source": [
    "```sh\n",
    "ret: True\n",
    "```\n"
   ]
  },
  {
   "cell_type": "markdown",
   "id": "imposed-value",
   "metadata": {},
   "source": [
    "The result shows that `Alice` has more wealth than `Bob`.\n",
    "\n",
    "It's intuitive, I won't go into details.\n",
    "\n",
    "#### Rosetta Version\n",
    "\n",
    "The above is a artificial one. Now let's see how to use `rosetta` to solve the original problem of millionaires without leaking their privacy. Let's begin, and you will see it is very simple!\n",
    "\n",
    "The first step is to import the `rosetta` package."
   ]
  },
  {
   "cell_type": "markdown",
   "id": "sophisticated-cover",
   "metadata": {},
   "source": [
    "```py\n",
    "import latticex.rosetta as rtt\n",
    "import tensorflow as tf\n",
    "```\n"
   ]
  },
  {
   "cell_type": "markdown",
   "id": "confused-kazakhstan",
   "metadata": {},
   "source": [
    "The second step is activate protocol."
   ]
  },
  {
   "cell_type": "markdown",
   "id": "national-greek",
   "metadata": {},
   "source": [
    "```py\n",
    "rtt.rtt.activate(\"SecureNN\")\n",
    "```\n"
   ]
  },
  {
   "cell_type": "markdown",
   "id": "lightweight-stuart",
   "metadata": {},
   "source": [
    "The third step is to set how much wealth each has privately.\n",
    "\n",
    "We use the built-in `rtt.private_console_input` to get the private data entered by the user in the terminal."
   ]
  },
  {
   "cell_type": "markdown",
   "id": "cardiac-polymer",
   "metadata": {},
   "source": [
    "```py\n",
    "Alice = tf.Variable(rtt.private_console_input(0))\n",
    "Bob = tf.Variable(rtt.private_console_input(1))\n",
    "```\n"
   ]
  },
  {
   "cell_type": "markdown",
   "id": "northern-devil",
   "metadata": {},
   "source": [
    "The forth step is exactly the same as `tensorflow`."
   ]
  },
  {
   "cell_type": "markdown",
   "id": "concrete-flower",
   "metadata": {},
   "source": [
    "```py\n",
    "res = tf.greater(Alice, Bob)\n",
    "init = tf.global_variables_initializer()\n",
    "with tf.Session() as sess:\n",
    "   sess.run(init)\n",
    "   res = sess.run(res)\n",
    "   print('res:', res)  # res: 722739251331272.4\n",
    "```\n"
   ]
  },
  {
   "cell_type": "markdown",
   "id": "removable-apache",
   "metadata": {},
   "source": [
    "The above output of `res` is a `sharing` value in [Secret-Sharing scheme](GLOSSARY.ipynb).\n",
    "\n",
    "> The `sharing` value is a random number essentially. an original true value x, is randomly split into two 64-bit values ​​x0, x1 (with x = x0 + x1), which are held by P0 and P1, respectively.\n",
    "\n",
    "How do we know the plaintext value? We provide a `reveal` interface to get the plain text value for convenience in debugging and testing. Just add it after the forth step:"
   ]
  },
  {
   "cell_type": "markdown",
   "id": "featured-broadway",
   "metadata": {},
   "source": [
    "```py\n",
    "with tf.Session() as sess:\n",
    "   # ...\n",
    "   ret = rtt.SecureReveal(res)\n",
    "   print('ret:', sess.run(ret))  # ret: 1.0\n",
    "```\n"
   ]
  },
  {
   "cell_type": "markdown",
   "id": "numerical-johnston",
   "metadata": {},
   "source": [
    "For the complete program of console version, refer to [rtt-millionaire-console.py](../example/tutorials/code/rtt-millionaire-console.py).\n",
    "\n",
    "For the complete program of script version, refer to  [rtt-millionaire.py](../example/tutorials/code/rtt-millionaire.py).\n",
    "\n",
    "Run this program as follows:"
   ]
  },
  {
   "cell_type": "markdown",
   "id": "usual-default",
   "metadata": {},
   "source": [
    "```sh\n",
    "./tutorials.sh rtt millionaire\n",
    "```\n"
   ]
  },
  {
   "cell_type": "markdown",
   "id": "documented-munich",
   "metadata": {},
   "source": [
    "The output is as follows:"
   ]
  },
  {
   "cell_type": "markdown",
   "id": "impaired-train",
   "metadata": {},
   "source": [
    "```sh\n",
    "ret: 1.0\n",
    "```\n"
   ]
  },
  {
   "cell_type": "markdown",
   "id": "frozen-boring",
   "metadata": {},
   "source": [
    "The result indicates that `Alice` has more wealth than `Bob`.\n",
    "\n",
    "<br/>\n",
    "\n",
    "> For a description of all operators supported by `rosetta` including `SecureReveal`, please refer to our [API Document](./API_DOC.ipynb).\n",
    "\n",
    "<br/>\n",
    "\n",
    "Of course, `Rosetta` can not only be used to solve simple problems  like `Millionaire's Problem`. Next, let’s see how we can tackle real problems in `Machine Learning` with the help of `Rosetta` framework.\n",
    "\n",
    "## Privacy-Preserving Machine Learning\n",
    "\n",
    "We will talk about the combination of `Privacy-Preserving` and`Machine Learning (ML)` in this part. Let's start with the simplest machine learning model: `Linear Regression`.\n",
    "\n",
    "### Linear Regression\n",
    "\n",
    "This section introduces how to use `rosetta` to perform a complete `Linear Regression` task, including `data processing`, `training and model saving`, `model loading and prediction` and `evaluation`.\n",
    "\n",
    "Before using `rosetta` for machine learning, in order to compare with `rosetta`-backed MPC version, let's see how we do the same task in native `tensorflow` style without the concern of data privacy.\n",
    "\n",
    "#### TensorFlow Version\n",
    "\n",
    "Here is a simple `Linear Regression` with `tensorflow`.\n",
    "\n",
    "- Import necessary packages, set training parameters, etc."
   ]
  },
  {
   "cell_type": "markdown",
   "id": "contained-titanium",
   "metadata": {},
   "source": [
    "```py\n",
    "import math\n",
    "import os\n",
    "import csv\n",
    "import tensorflow as tf\n",
    "import numpy as np\n",
    "import pandas as pd\n",
    "from util import read_dataset\n",
    "\n",
    "np.set_printoptions(suppress=True)\n",
    "\n",
    "os.environ['TF_CPP_MIN_LOG_LEVEL'] = '3'\n",
    "\n",
    "np.random.seed(0)\n",
    "\n",
    "EPOCHES = 100\n",
    "BATCH_SIZE = 16\n",
    "learning_rate = 0.0002\n",
    "```\n"
   ]
  },
  {
   "cell_type": "markdown",
   "id": "meaningful-subscriber",
   "metadata": {},
   "source": [
    "- Load dataset\n",
    "\n",
    "Please refer to the appendix at the end of this tutorial.\n",
    "\n",
    "We highlight codes that are different from `rosetta`, and we will focus more on them later."
   ]
  },
  {
   "cell_type": "markdown",
   "id": "included-window",
   "metadata": {},
   "source": [
    "```py\n",
    "# real data\n",
    "# ######################################## difference from rosettta\n",
    "file_x = '../dsets/ALL/reg_train_x.csv'\n",
    "file_y = '../dsets/ALL/reg_train_y.csv'\n",
    "real_X, real_Y = pd.read_csv(file_x).to_numpy(), pd.read_csv(file_y).to_numpy()\n",
    "# ######################################## difference from rosettta\n",
    "DIM_NUM = real_X.shape[1]\n",
    "```\n"
   ]
  },
  {
   "cell_type": "markdown",
   "id": "alike-peter",
   "metadata": {},
   "source": [
    "- Write a Linear Regression model.\n",
    "\n",
    "We will not go into details here, and only present the code below. For details, please refer to `TensorFlow™` official website about writing machine learning models."
   ]
  },
  {
   "cell_type": "markdown",
   "id": "hourly-effort",
   "metadata": {},
   "source": [
    "```py\n",
    "X = tf.placeholder(tf.float32, [None, DIM_NUM])\n",
    "Y = tf.placeholder(tf.float32, [None, 1])\n",
    "\n",
    "# initialize W & b\n",
    "W = tf.Variable(tf.zeros([DIM_NUM, 1]))\n",
    "b = tf.Variable(tf.zeros([1]))\n",
    "\n",
    "# predict\n",
    "pred_Y = tf.matmul(X, W) + b\n",
    "\n",
    "# loss\n",
    "loss = tf.square(Y - pred_Y)\n",
    "loss = tf.reduce_mean(loss)\n",
    "\n",
    "# optimizer\n",
    "train = tf.train.GradientDescentOptimizer(learning_rate).minimize(loss)\n",
    "\n",
    "init = tf.global_variables_initializer()\n",
    "```\n"
   ]
  },
  {
   "cell_type": "markdown",
   "id": "twelve-preservation",
   "metadata": {},
   "source": [
    "- Model training."
   ]
  },
  {
   "cell_type": "markdown",
   "id": "centered-tourist",
   "metadata": {},
   "source": [
    "```py\n",
    "with tf.Session() as sess:\n",
    "   sess.run(init)\n",
    "   xW, xb = sess.run([W, b])\n",
    "   print(\"init weight:{} \\nbias:{}\".format(xW, xb))\n",
    "\n",
    "   # train\n",
    "   BATCHES = math.ceil(len(real_X) / BATCH_SIZE)\n",
    "   for e in range(EPOCHES):\n",
    "      for i in range(BATCHES):\n",
    "         bX = real_X[(i * BATCH_SIZE): (i + 1) * BATCH_SIZE]\n",
    "         bY = real_Y[(i * BATCH_SIZE): (i + 1) * BATCH_SIZE]\n",
    "         sess.run(train, feed_dict={X: bX, Y: bY})\n",
    "\n",
    "         j = e * BATCHES + i\n",
    "         if j % 50 == 0 or (j == EPOCHES * BATCHES - 1 and j % 50 != 0):\n",
    "            xW, xb = sess.run([W, b])\n",
    "            print(\"I,E,B:{:0>4d},{:0>4d},{:0>4d} weight:{} \\nbias:{}\".format(\n",
    "               j, e, i, xW, xb))\n",
    "\n",
    "   # predict\n",
    "   Y_pred = sess.run(pred_Y, feed_dict={X: real_X, Y: real_Y})\n",
    "   print(\"Y_pred:\", Y_pred)\n",
    "```\n"
   ]
  },
  {
   "cell_type": "markdown",
   "id": "working-hypothetical",
   "metadata": {},
   "source": [
    "For complete code reference Please refer to [tf-linear_regression.py](../example/tutorials/code/tf-linear_regression.py) for the complete source code.\n",
    "\n",
    "And then, we run this program as follows:"
   ]
  },
  {
   "cell_type": "markdown",
   "id": "quality-transportation",
   "metadata": {},
   "source": [
    "```sh\n",
    "./tutorials.sh tf linear_regression\n",
    "```\n"
   ]
  },
  {
   "cell_type": "markdown",
   "id": "wrapped-garden",
   "metadata": {},
   "source": [
    "The output is as follows:"
   ]
  },
  {
   "cell_type": "markdown",
   "id": "norwegian-mauritius",
   "metadata": {},
   "source": [
    "```sh\n",
    "Y_pred: [[5.409453 ]\n",
    " [5.803287 ]\n",
    " [5.9634194]\n",
    " ...\n",
    " [4.978249 ]\n",
    " [5.9761114]\n",
    " [5.9929996]]\n",
    "```\n"
   ]
  },
  {
   "cell_type": "markdown",
   "id": "under-footwear",
   "metadata": {},
   "source": [
    "#### Rosetta Basic Version\n",
    "\n",
    "As mentioned above, if you have an existing model training script (`.py`) written with `tensorflow`, then all you need to do is import the following packages on the first line of this script file:"
   ]
  },
  {
   "cell_type": "markdown",
   "id": "timely-mattress",
   "metadata": {},
   "source": [
    "```python\n",
    "import latticex.rosetta as rtt\n",
    "```\n"
   ]
  },
  {
   "cell_type": "markdown",
   "id": "digital-implementation",
   "metadata": {},
   "source": [
    "**Yes, it's that simple!** You don't need to modify any already written code. Even if you don’t have any knowledge of cryptography, you can use it easily. The only difference is about the how to set your private data.\n",
    "\n",
    "- Activate protocol"
   ]
  },
  {
   "cell_type": "markdown",
   "id": "lasting-designer",
   "metadata": {},
   "source": [
    "```py\n",
    "rtt.rtt.activate(\"SecureNN\")\n",
    "```\n"
   ]
  },
  {
   "cell_type": "markdown",
   "id": "abandoned-heath",
   "metadata": {},
   "source": [
    "> Note: The protocol must be activated before any `MPC` related `API` can be used.\n",
    "\n",
    "- Load dataset\n",
    "\n",
    "Please refers to the appendix at the end of this article for the dataset description.\n",
    "\n",
    "We have highlighted the spots that are different from `tensorflow`. In contrast to the native `tensorflow` version without data privacy. Except for the importing of the `rosetta` package, only these several lines are different.\n",
    "\n",
    "`rosetta` provides a class, `PrivateDataset`, specifically for handling private data sets. Check the relevant source code for details."
   ]
  },
  {
   "cell_type": "markdown",
   "id": "cloudy-caribbean",
   "metadata": {},
   "source": [
    "```py\n",
    "# real data\n",
    "# ######################################## difference from tensorflow\n",
    "file_x = '../dsets/P' + str(rtt.mpc_player.id) + \"/reg_train_x.csv\"\n",
    "file_y = '../dsets/P' + str(rtt.mpc_player.id) + \"/reg_train_y.csv\"\n",
    "real_X, real_Y = rtt.PrivateDataset(data_owner=(\n",
    "   0, 1), label_owner=1).load_data(file_x, file_y, header=None)\n",
    "# ######################################## difference from tensorflow\n",
    "DIM_NUM = real_X.shape[1]\n",
    "```\n"
   ]
  },
  {
   "cell_type": "markdown",
   "id": "lovely-wedding",
   "metadata": {},
   "source": [
    "Please refer to [rtt-linear_regression.py](../example/tutorials/code/rtt-linear_regression.py) for the complete source code.\n",
    "\n",
    "<br/>\n",
    "\n",
    "OK. Now let's briefly summarize the difference from the `tensorflow` version:\n",
    "\n",
    "- Importing `rosetta` package.\n",
    "- Activate protocol.\n",
    "- Loading data sets.\n",
    "\n",
    "<br/>\n",
    "\n",
    "Now, we have written the complete code, then how do we run it?\n",
    "\n",
    "Do you still remember the above `Millionaires' Problem` example that you have learned? There is no difference in running them.\n",
    "\n",
    "Just run it as follows:"
   ]
  },
  {
   "cell_type": "markdown",
   "id": "monetary-terrorism",
   "metadata": {},
   "source": [
    "```sh\n",
    "./tutorials.sh rtt linear_regression\n",
    "```\n"
   ]
  },
  {
   "cell_type": "markdown",
   "id": "celtic-closing",
   "metadata": {},
   "source": [
    "The output is as follows:"
   ]
  },
  {
   "cell_type": "markdown",
   "id": "czech-height",
   "metadata": {},
   "source": [
    "```sh\n",
    "Y_pred: [[1.22580022e+14]\n",
    " [1.22481157e+14]\n",
    " [1.22514398e+14]\n",
    " ...\n",
    " [1.22532401e+14]\n",
    " [1.22508954e+14]\n",
    " [1.22495981e+14]]\n",
    "```\n"
   ]
  },
  {
   "cell_type": "markdown",
   "id": "lesser-image",
   "metadata": {},
   "source": [
    "Don't be panic, what you're seeing are `random` values in [`Secret sharing` scheme](GLOSSARY.ipynb), rather than plaintext values, because Rosetta is protecting the privacy of your own data right now.\n",
    "\n",
    "#### Rosetta Version-with Reveal\n",
    "\n",
    "The `sharing value` output in the previous section is not human-readable. For testing, debugging, comparison with plain text ans so on, we provide a `reveal` interface to get the plain text value.\n",
    "\n",
    "<font style = \"color: red\"> Reminder:please be cautious when using this reveal interface in a production environment. </font>\n",
    "\n",
    "Let's modify the previous (basic version) program with addition of `reveal`, and see what effect it has. The new program is as follows:"
   ]
  },
  {
   "cell_type": "markdown",
   "id": "particular-passage",
   "metadata": {},
   "source": [
    "```py\n",
    "# ########### for test, reveal\n",
    "reveal_W = rtt.SecureReveal(W)\n",
    "reveal_b = rtt.SecureReveal(b)\n",
    "reveal_Y = rtt.SecureReveal(pred_Y)\n",
    "# ########### for test, reveal\n",
    "\n",
    "with tf.Session() as sess:\n",
    "   sess.run(init)\n",
    "   rW, rb = sess.run([reveal_W, reveal_b])\n",
    "   print(\"init weight:{} \\nbias:{}\".format(rW, rb))\n",
    "\n",
    "   # train\n",
    "   BATCHES = math.ceil(len(real_X) / BATCH_SIZE)\n",
    "   for e in range(EPOCHES):\n",
    "      for i in range(BATCHES):\n",
    "         bX = real_X[(i * BATCH_SIZE): (i + 1) * BATCH_SIZE]\n",
    "         bY = real_Y[(i * BATCH_SIZE): (i + 1) * BATCH_SIZE]\n",
    "         sess.run(train, feed_dict={X: bX, Y: bY})\n",
    "\n",
    "         j = e * BATCHES + i\n",
    "         if j % 50 == 0 or (j == EPOCHES * BATCHES - 1 and j % 50 != 0):\n",
    "            rW, rb = sess.run([reveal_W, reveal_b])\n",
    "            print(\"I,E,B:{:0>4d},{:0>4d},{:0>4d} weight:{} \\nbias:{}\".format(\n",
    "               j, e, i, rW, rb))\n",
    "\n",
    "   # predict\n",
    "   Y_pred = sess.run(reveal_Y, feed_dict={X: real_X, Y: real_Y})\n",
    "   print(\"Y_pred:\", Y_pred)\n",
    "```\n"
   ]
  },
  {
   "cell_type": "markdown",
   "id": "owned-yahoo",
   "metadata": {},
   "source": [
    "Please refer to [rtt-linear_regression_reveal.py](../example/tutorials/code/rtt-linear_regression_reveal.py) for the complete source code.\n",
    "\n",
    "Then, we run it as follows:"
   ]
  },
  {
   "cell_type": "markdown",
   "id": "working-peripheral",
   "metadata": {},
   "source": [
    "```sh\n",
    "./tutorials.sh rtt linear_regression_reveal\n",
    "```\n"
   ]
  },
  {
   "cell_type": "markdown",
   "id": "fancy-germany",
   "metadata": {},
   "source": [
    "And, the output will be as follows:"
   ]
  },
  {
   "cell_type": "markdown",
   "id": "unlike-planet",
   "metadata": {},
   "source": [
    "```sh\n",
    "Y_pred: [[5.40625 ]\n",
    " [5.828125]\n",
    " [5.953125]\n",
    " ...\n",
    " [5.     ]\n",
    " [5.984375]\n",
    " [5.984375]]\n",
    "```\n"
   ]
  },
  {
   "cell_type": "markdown",
   "id": "powerful-inclusion",
   "metadata": {},
   "source": [
    "Try to compare this output with the output of the `tensorflow` version to see how much the error is.\n",
    "\n",
    "#### Comparison and Evaluation 1\n",
    "\n",
    "Here is the tutorial, you can get both the predicted value and weight value of `tensorflow` version and `rosetta` version.\n",
    "\n",
    "For models with few parameters, (the error in the previous section) can be barely recognized at the first sight, but if there are many parameters and the dataset is very large, then auxiliary tools are needed.\n",
    "\n",
    "We only list the final comparison results here. For details, refer to `Comparison and Evaluation 2`.\n",
    "\n",
    "Below is a comparison of the evaluation result of `tensorflow` and `rosetta`.\n",
    "\n",
    "TensorFlow:"
   ]
  },
  {
   "cell_type": "markdown",
   "id": "revised-christopher",
   "metadata": {},
   "source": [
    "```json\n",
    "{\n",
    "  \"tag\": \"tensorflow\",\n",
    "  \"mse\": 0.5182142087177698,\n",
    "  \"rmse\": 0.7198709667140145,\n",
    "  \"mae\": 0.4328875541499997,\n",
    "  \"evs\": 0.22396289848005935,\n",
    "  \"r2\": 0.19491626081852909\n",
    "}\n",
    "```\n"
   ]
  },
  {
   "cell_type": "markdown",
   "id": "pretty-navigation",
   "metadata": {},
   "source": [
    "Rosetta:"
   ]
  },
  {
   "cell_type": "markdown",
   "id": "chubby-madrid",
   "metadata": {},
   "source": [
    "```json\n",
    "{\n",
    "  \"tag\": \"rosetta\",\n",
    "  \"mse\": 0.5210866435592723,\n",
    "  \"rmse\": 0.7218633136261132,\n",
    "  \"mae\": 0.421875,\n",
    "  \"evs\": 0.2204962547250663,\n",
    "  \"r2\": 0.19045372284900097\n",
    "}\n",
    "```\n"
   ]
  },
  {
   "cell_type": "markdown",
   "id": "behind-valve",
   "metadata": {},
   "source": [
    "We can see that the evaluation scores (with little loss on precision) are almost the same.\n",
    "\n",
    "> R^2 is lower because this dataset is a Logistic Regression model, not a Linear Regression model\n",
    "\n",
    "> Here we only need to care about the error between the two versions (it is very small)\n",
    "\n",
    "The following figure is about the error comparison between the predicted values ​​of `tensorflow` and `rosetta`.\n",
    "\n",
    "![](./_static/tutorials/linear_regression_stat-Y-diff4.png)\n",
    "\n",
    "#### Comparison and Evaluation 2\n",
    "\n",
    "We only show the final result in `Comparison and Evaluation 1` section. Here we dive a little deeper with the inner process. You can skip this section if not interested.\n",
    "\n",
    "> In this section, Linear Regression is evaluated using R^2, and Logistic Regression is evaluated using AUC/ACC/F1 Evaluation.\n",
    "\n",
    "<br/>\n",
    "\n",
    "Next, let’s modify the last part of the program and add the statistical functionality (this modification is the same for the `tesnorflow` version and the `rosetta` version)"
   ]
  },
  {
   "cell_type": "markdown",
   "id": "equal-davis",
   "metadata": {},
   "source": [
    "```py\n",
    "# #############################################################\n",
    "# save to csv for comparing, for debug\n",
    "scriptname = os.path.basename(sys.argv[0]).split(\".\")[0]\n",
    "csvprefix = \"./log/\" + scriptname\n",
    "os.makedirs(csvprefix, exist_ok=True)\n",
    "csvprefix = csvprefix + \"/tf\"\n",
    "# #############################################################\n",
    "\n",
    "with tf.Session() as sess:\n",
    "   sess.run(init)\n",
    "   xW, xb = sess.run([W, b])\n",
    "   print(\"init weight:{} \\nbias:{}\".format(xW, xb))\n",
    "\n",
    "   # train\n",
    "   BATCHES = math.ceil(len(real_X) / BATCH_SIZE)\n",
    "   for e in range(EPOCHES):\n",
    "      for i in range(BATCHES):\n",
    "         bX = real_X[(i * BATCH_SIZE): (i + 1) * BATCH_SIZE]\n",
    "         bY = real_Y[(i * BATCH_SIZE): (i + 1) * BATCH_SIZE]\n",
    "         sess.run(train, feed_dict={X: bX, Y: bY})\n",
    "\n",
    "         j = e * BATCHES + i\n",
    "         if j % 50 == 0 or (j == EPOCHES * BATCHES - 1 and j % 50 != 0):\n",
    "            xW, xb = sess.run([W, b])\n",
    "            print(\"I,E,B:{:0>4d},{:0>4d},{:0>4d} weight:{} \\nbias:{}\".format(\n",
    "               j, e, i, xW, xb))\n",
    "            savecsv(\"{}-{:0>4d}-{}.csv\".format(csvprefix, j, \"W\"), xW)\n",
    "            savecsv(\"{}-{:0>4d}-{}.csv\".format(csvprefix, j, \"b\"), xb)\n",
    "\n",
    "   # predict\n",
    "   Y_pred = sess.run(pred_Y, feed_dict={X: real_X, Y: real_Y})\n",
    "   print(\"Y_pred:\", Y_pred)\n",
    "   savecsv(\"{}-pred-{}.csv\".format(csvprefix, \"Y\"), Y_pred)\n",
    "\n",
    "   # save real y for evaluation\n",
    "   savecsv(\"{}-real-{}.csv\".format(csvprefix, \"Y\"), real_Y)\n",
    "```\n"
   ]
  },
  {
   "cell_type": "markdown",
   "id": "retained-section",
   "metadata": {},
   "source": [
    "Please refer to [tf-linear_regression_stat.py](../example/tutorials/code/tf-linear_regression_stat.py) for the complete code.\n",
    "\n",
    "Please refer to  [rtt-linear_regression_stat.py](../example/tutorials/code/rtt-linear_regression_stat.py) for the complete code.\n",
    "\n",
    "Then, you will get the evaluation results after running it as follows:"
   ]
  },
  {
   "cell_type": "markdown",
   "id": "supreme-variety",
   "metadata": {},
   "source": [
    "```sh\n",
    "./tutorials.sh tf linear_regression_stat\n",
    "./tutorials.sh rtt linear_regression_stat\n",
    "./tutorials.sh stat linear_regression_stat linear\n",
    "```\n"
   ]
  },
  {
   "cell_type": "markdown",
   "id": "lasting-montana",
   "metadata": {},
   "source": [
    "#### Model Saving\n",
    "\n",
    "So far, we just output the model parameters and predicted values ​​to the terminal. How can we save the trained model as we often do in machine learning?\n",
    "\n",
    "You may wonder, since we are doing all these in a multi-party way, WHERE will the trained model (should) be saved after running with `rosetta`? And HOW to save it? Good question. Let’s talk about the model saving.\n",
    "\n",
    "There are several conventions:\n",
    "\n",
    "- If you want to use `rosetta` for prediction on shared private dataset, please save the model as `cipher text`.\n",
    "\n",
    "- If you save the model as plain text, and want to use this model to make predictions on plaintext, please use `tensorflow` directly to make predictions.\n",
    "\n",
    "Regarding the saving of the plaintext result, you can choose to save at node 0, node 1, node 2, or all three nodes. This setting is in the configuration file.\n",
    "\n",
    "> You can try to modify the value of `SAVER_MODE` in the configuration file to see how it works.\n",
    "\n",
    "`SAVER_MODE` is a flag of a bitmap combination, and its meaning is as follows"
   ]
  },
  {
   "cell_type": "markdown",
   "id": "corresponding-maldives",
   "metadata": {},
   "source": [
    "```\n",
    "// 0: Save the cipher text. (And the number 1 ~ 7 below indicates which specific parties to  save the plain text files)\n",
    "// 1: P0,\n",
    "// 2: P1,\n",
    "// 4: P2,\n",
    "// 3: P0 and P1\n",
    "// 5: P0 and P2\n",
    "// 6: P1 and P2\n",
    "// 7: P0, P1 and P2\n",
    "```\n"
   ]
  },
  {
   "cell_type": "markdown",
   "id": "logical-burner",
   "metadata": {},
   "source": [
    "<br/>\n",
    "\n",
    "In this section, we will use `rosetta` to train the model, then save the model as `plaintext`, and then load this `plaintext model` into the `tensorflow` version for prediction. Finally we check the difference between using `tensorflow` on plaintext dataset without data privacy with this one.\n",
    "\n",
    "<br/>\n",
    "\n",
    "Based on the previous version of `rosetta`, we added some code related to `save`.\n",
    "\n",
    "Before training starts:"
   ]
  },
  {
   "cell_type": "markdown",
   "id": "exceptional-chocolate",
   "metadata": {},
   "source": [
    "```py\n",
    "# save\n",
    "saver = tf.train.Saver(var_list=None, max_to_keep=5, name='v2')\n",
    "os.makedirs(\"./log/ckpt\"+str(party_id), exist_ok=True)\n",
    "```\n"
   ]
  },
  {
   "cell_type": "markdown",
   "id": "answering-mason",
   "metadata": {},
   "source": [
    "After training:"
   ]
  },
  {
   "cell_type": "markdown",
   "id": "destroyed-wagner",
   "metadata": {},
   "source": [
    "```py\n",
    "saver.save(sess, './log/ckpt'+str(party_id)+'/model')\n",
    "```\n"
   ]
  },
  {
   "cell_type": "markdown",
   "id": "accredited-indonesia",
   "metadata": {},
   "source": [
    "Please refer to [rtt-linear_regression_saver.py](../example/tutorials/code/rtt-linear_regression_saver.py) for details.\n",
    "\n",
    "And then run it as follows:"
   ]
  },
  {
   "cell_type": "markdown",
   "id": "bizarre-marshall",
   "metadata": {},
   "source": [
    "```sh\n",
    "./tutorials.sh rtt linear_regression_saver\n",
    "```\n"
   ]
  },
  {
   "cell_type": "markdown",
   "id": "convinced-barrel",
   "metadata": {},
   "source": [
    "#### Model Loading and Prediction\n",
    "\n",
    "The model has been saved to the corresponding node in the previous step (according to the configuration file). Now use `tensorflow` to load the plaintext model saved in the previous step and make predictions."
   ]
  },
  {
   "cell_type": "markdown",
   "id": "driven-thanks",
   "metadata": {},
   "source": [
    "```py\n",
    "# save\n",
    "saver = tf.train.Saver(var_list=None, max_to_keep=5, name='v2')\n",
    "os.makedirs(\"./log/ckpt0\", exist_ok=True)\n",
    "\n",
    "# restore mpc's model and predict\n",
    "with tf.Session() as sess:\n",
    "   sess.run(init)\n",
    "   if os.path.exists(\"./log/ckpt0/checkpoint\"):\n",
    "      saver.restore(sess, './log/ckpt0/model')\n",
    "\n",
    "   # predict\n",
    "   Y_pred = sess.run(pred_Y)\n",
    "   print(\"Y_pred:\", Y_pred)\n",
    "```\n"
   ]
  },
  {
   "cell_type": "markdown",
   "id": "numerous-butterfly",
   "metadata": {},
   "source": [
    "For the complete code, please refer to [tf-linear_regression_restore.py](../example/tutorials/code/tf-linear_regression_restore.py).\n",
    "\n",
    "And then run it as follows:"
   ]
  },
  {
   "cell_type": "markdown",
   "id": "handmade-therapist",
   "metadata": {},
   "source": [
    "```sh\n",
    "./tutorials.sh tf linear_regression_restore\n",
    "```\n"
   ]
  },
  {
   "cell_type": "markdown",
   "id": "simplified-color",
   "metadata": {},
   "source": [
    "The output will be as follows:"
   ]
  },
  {
   "cell_type": "markdown",
   "id": "after-soundtrack",
   "metadata": {},
   "source": [
    "```sh\n",
    "Y_pred: [[5.4112522 ]\n",
    " [5.80601873]\n",
    " [5.96399414]\n",
    " ...\n",
    " [4.97999231]\n",
    " [5.97734902]\n",
    " [5.98777173]]\n",
    "```\n"
   ]
  },
  {
   "cell_type": "markdown",
   "id": "saved-example",
   "metadata": {},
   "source": [
    "<br/>\n",
    "\n",
    "Summary:\n",
    "\n",
    "Complete source code list reference\n",
    "\n",
    "TensorFlow version\n",
    "\n",
    "|                       |                                                                       |\n",
    "| ---------------------------- | -------------------------------------------------------------------------------------------- |\n",
    "| Basics                  | [tf-linear_regression.py](../example/tutorials/code/tf-linear_regression.py)             |\n",
    "| Model Training and Saving   | [tf-linear_regression_saver.py](../example/tutorials/code/tf-linear_regression_saver.py)    |\n",
    "| Model loading and prediction | [tf-linear_regression_restore.py](../example/tutorials/code/tf-linear_regression_restore.py) |\n",
    "| Evaluation               | [tf-linear_regression_stat.py](../example/tutorials/code/tf-linear_regression_stat.py)      |\n",
    "\n",
    "Rosetta version\n",
    "\n",
    "|                              |                                                                        |\n",
    "| ------------------------------------- | ---------------------------------------------------------------------------------------------- |\n",
    "| Basics                        | [rtt-linear_regression.py](../example/tutorials/code/rtt-linear_regression.py)             |\n",
    "| Basic (output plain text)          | [rtt-linear_regression_reveal.py](../example/tutorials/code/rtt-linear_regression_reveal.py)   |\n",
    "| Model Training and Saving          | [rtt-linear_regression_saver.py](../example/tutorials/code/rtt-linear_regression_saver.py)    |\n",
    "| Model (Cipher) loading and prediction | [rtt-linear_regression_restore.py](../example/tutorials/code/rtt-linear_regression_restore.py) |\n",
    "| Evaluation                     | [rtt-linear_regression_stat.py](../example/tutorials/code/rtt-linear_regression_stat.py)      |\n",
    "\n",
    "### Logistic Regression\n",
    "\n",
    "With the foundation of `Linear Regression` above, then `Logistic Regression` is `very`, `very`, `very simple`.\n",
    "\n",
    "Based on Linear Regression, we use `sigmoid` as a binary classifier and `cross entropy` as a loss function to build a Logistic Regression model.\n",
    "\n",
    "Regardless of the `tensorflow` version or the`rosetta` version, the changes are the same. Compared with the `Linear Regression` version, only the model construction part needs to be changed, that is, only the following modification is needed:\n",
    "\n",
    "- On the predicted value part, add `sigmoid` functionality\n",
    "\n",
    "- On the loss function part, we replace them with cross entropy function"
   ]
  },
  {
   "cell_type": "markdown",
   "id": "joint-bible",
   "metadata": {},
   "source": [
    "```py\n",
    "# predict\n",
    "pred_Y = tf.sigmoid(tf.matmul(X, W) + b)\n",
    "\n",
    "# loss\n",
    "logits = tf.matmul(X, W) + b\n",
    "loss = tf.nn.sigmoid_cross_entropy_with_logits(labels=Y, logits=logits)\n",
    "loss = tf.reduce_mean(loss)\n",
    "```\n"
   ]
  },
  {
   "cell_type": "markdown",
   "id": "agreed-rapid",
   "metadata": {},
   "source": [
    "Complete source code list reference:\n",
    "\n",
    "TensorFlow version\n",
    "\n",
    "|                       |                                                                          |\n",
    "| ---------------------------- | ------------------------------------------------------------------------------------------------ |\n",
    "| Basics                  | [tf-logistic_regression.py](../example/tutorials/code/tf-logistic_regression.py)             |\n",
    "| Model Training and Saving   | [tf-logistic_regression_saver.py](../example/tutorials/code/tf-logistic_regression_saver.py)    |\n",
    "| Model loading and prediction | [tf-logistic_regression_restore.py](../example/tutorials/code/tf-logistic_regression_restore.py) |\n",
    "| Evaluation               | [tf-logistic_regression_stat.py](../example/tutorials/code/tf-logistic_regression_stat.py)      |\n",
    "\n",
    "Rosetta version\n",
    "\n",
    "|                              |                                                                           |\n",
    "| ------------------------------------- | -------------------------------------------------------------------------------------------------- |\n",
    "| Basics                        | [rtt-logistic_regression.py](../example/tutorials/code/rtt-logistic_regression.py)             |\n",
    "| Basic (output plain text)          | [rtt-logistic_regression_reveal.py](../example/tutorials/code/rtt-logistic_regression_reveal.py)   |\n",
    "| Model Training and Saving          | [rtt-logistic_regression_saver.py](../example/tutorials/code/rtt-logistic_regression_saver.py)    |\n",
    "| Model (Cipher) loading and prediction | [rtt-logistic_regression_restore.py](../example/tutorials/code/rtt-logistic_regression_restore.py) |\n",
    "| Evaluation                     | [rtt-logistic_regression_stat.py](../example/tutorials/code/rtt-logistic_regression_stat.py)      |\n",
    "\n",
    "Just run these programs in the same as in `Linear Regression`.\n",
    "\n",
    "<br/>\n",
    "\n",
    "Here is the comparison of the two different versions of Logistic Regression model.\n",
    "\n",
    "TensorFlow:"
   ]
  },
  {
   "cell_type": "markdown",
   "id": "finished-steel",
   "metadata": {},
   "source": [
    "```json\n",
    "{\n",
    "  \"tag\": \"tensorflow\",\n",
    "  \"score_auc\": 0.7346938775510203,\n",
    "  \"score_ks\": 0.428171268507403,\n",
    "  \"threshold_opt\": 0.6036468147999999,\n",
    "  \"score_accuracy\": 0.71,\n",
    "  \"score_precision\": 0.8666666666666667,\n",
    "  \"score_recall\": 0.5098039215686274,\n",
    "  \"score_f1\": 0.6419753086419753\n",
    "}\n",
    "```\n"
   ]
  },
  {
   "cell_type": "markdown",
   "id": "focused-criminal",
   "metadata": {},
   "source": [
    "Rosetta:"
   ]
  },
  {
   "cell_type": "markdown",
   "id": "blind-shell",
   "metadata": {},
   "source": [
    "```json\n",
    "{\n",
    "  \"tag\": \"rosetta\",\n",
    "  \"score_auc\": 0.7366946778711485,\n",
    "  \"score_ks\": 0.42737094837935174,\n",
    "  \"threshold_opt\": 0.6110839844,\n",
    "  \"score_accuracy\": 0.71,\n",
    "  \"score_precision\": 0.84375,\n",
    "  \"score_recall\": 0.5294117647058824,\n",
    "  \"score_f1\": 0.6506024096385543\n",
    "}\n",
    "```\n"
   ]
  },
  {
   "cell_type": "markdown",
   "id": "green-consideration",
   "metadata": {},
   "source": [
    "> Here we only care about the error between the two versions (we can see that it is very small)\n",
    "\n",
    "> Rosetta is even slightly better than TensorFlow\n",
    "\n",
    "The following figure is about the error comparison between the predicted values ​​of `tensorflow` and `rosetta`.\n",
    "\n",
    "![](./_static/tutorials/logistic_regression_stat-Y-diff4.png)\n",
    "\n",
    "### Support big data sets\n",
    "\n",
    "The above linear regression and logistic regression models all load the entire dataset into memory and then take it out in batch order for training, and as the size of the dataset grows, it becomes impractical to load the dataset into memory at once.\n",
    "\n",
    "Major plaintext AI frameworks such as TensorFlow are aware of and provide solutions, TensorFlow provides the relevant Dataset APIs to build low-memory consuming, complex, reusable data pipelines, since Rosetta uses Tensorflow as a backend, it can be reused with minor modifications.\n",
    "\n",
    "We use logistic regression model as an example to illustrate how to train a model with large datasets.\n",
    "\n",
    "For the TensorFlow version complete code, please refer to [tf-ds-lr.py](../example/tutorials/code/tf-ds-lr.py).\n",
    "\n",
    "For the Rosetta version complete code, please refer to [rtt-ds-lr.py](../example/tutorials/code/rtt-ds-lr.py).\n",
    "\n",
    "Analysis of the code in tf-ds-lr.py and rtt-ds-lr.py reveals two main differences.\n",
    "\n",
    "1. Create a text line dataset, use TextLineDataset class in TensorFlow and use PrivateTextLineDataset class in Rosetta.\n",
    "   The code used in TensorFlow is as following:\n",
    "\n",
    "   ```py\n",
    "   dataset_x = tf.data.TextLineDataset(file_x)\n",
    "   ...\n",
    "   ```\n",
    "\n",
    "   The code used in Rosetta is as following:\n",
    "\n",
    "   ```py\n",
    "   dataset_x0 = rtt.PrivateTextLineDataset(\n",
    "               file_x, data_owner=0)  # P0 hold the file data\n",
    "   ...\n",
    "   ```\n",
    "\n",
    "2. Decode functions are implemented differently. TensorFlow version of the decode function split rows to corresponding fields and then converts the fields to floating-point numbers, while the Rosetta version of the decode function also first split rows to corresponding fields and then calls `PrivateInput` function to share the data.\n",
    "   The code used in TensorFlow is as following:\n",
    "\n",
    "   ```py\n",
    "   # dataset decode\n",
    "   def decode_x(line):\n",
    "      fields = tf.string_split([line], ',').values\n",
    "      fields = tf.string_to_number(fields, tf.float64)\n",
    "      return fields\n",
    "   ```\n",
    "\n",
    "   The code used in Rosetta is as following:\n",
    "\n",
    "   ```py\n",
    "   # dataset decode\n",
    "   def decode_p0(line):\n",
    "      fields = tf.string_split([line], ',').values\n",
    "      fields = rtt.PrivateInput(fields, data_owner=0) # P0 hold the file data\n",
    "      return fields\n",
    "   ```\n",
    "\n",
    "## Conclusion\n",
    "\n",
    "That's all.\n",
    "\n",
    "Now, you have fully mastered the usage of `Rosetta`, go to find a real problem to play with.\n",
    "\n",
    "welcome!\n",
    "\n",
    "## Additional Notes\n",
    "\n",
    "### Dataset Description\n",
    "\n",
    "The data set source reference [here](http://archive.ics.uci.edu/ml/datasets/Wine+Quality).\n",
    "\n",
    "We have performed simple pre-process steps to get the results as follows, the path is in `dsets/`, and the directory structure is as follows:"
   ]
  },
  {
   "cell_type": "markdown",
   "id": "sublime-messaging",
   "metadata": {},
   "source": [
    "```\n",
    "dsets/\n",
    "├── ALL\n",
    "│   ├── cls_test_x.csv\n",
    "│   ├── cls_test_y.csv\n",
    "│   ├── cls_train_x.csv\n",
    "│   ├── cls_train_y.csv\n",
    "│   ├── reg_test_x.csv\n",
    "│   ├── reg_test_y.csv\n",
    "│   ├── reg_train_x.csv\n",
    "│   └── reg_train_y.csv\n",
    "├── P0\n",
    "│   ├── cls_test_x.csv\n",
    "│   ├── cls_test_y.csv\n",
    "│   ├── cls_train_x.csv\n",
    "│   ├── cls_train_y.csv\n",
    "│   ├── reg_test_x.csv\n",
    "│   └── reg_train_x.csv\n",
    "├── P1\n",
    "│   ├── cls_test_x.csv\n",
    "│   ├── cls_train_x.csv\n",
    "│   ├── reg_test_x.csv\n",
    "│   ├── reg_test_y.csv\n",
    "│   ├── reg_train_x.csv\n",
    "│   └── reg_train_y.csv\n",
    "└── P2\n",
    "```\n"
   ]
  },
  {
   "cell_type": "markdown",
   "id": "mental-tongue",
   "metadata": {},
   "source": [
    "|      |                                                    |\n",
    "| ------ | ------------------------------------------------------------------- |\n",
    "| ALL   | Raw data of the dataset                                  |\n",
    "| P*    | Indicates the private data owned by each node                  |\n",
    "| cls*   | Represents a binary classification data set for Logistic Regression |\n",
    "| reg*   | Regression data set, used for Linear Regression                |\n",
    "| *train | Represents the data set used for training                     |\n",
    "| *test  | Represents the data set used for prediction                   |\n",
    "| *x    | Indicates sample                                       |\n",
    "| *y    | Means label                                           |\n",
    "\n",
    "Description:\n",
    "\n",
    "For comparison with the plaintext (TensorFlow version), we divided the original data set into two parts in the vertical direction, one as private data of `P0` and the other as private data of`P1`.\n",
    "\n",
    "1. The data under ALL is used for TensorFlow version.\n",
    "2. The private data of each node of P0/P1 is stored on each node.\n",
    "3. P2 has no data.\n",
    "4. The label for Logistic Regression is owned by P0, and the label for Linear Regression is owned by P1."
   ]
  }
 ],
 "metadata": {
  "language_info": {
   "name": "python"
  }
 },
 "nbformat": 4,
 "nbformat_minor": 5
}