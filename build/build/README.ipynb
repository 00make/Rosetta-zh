{
 "cells": [
  {
   "cell_type": "markdown",
   "id": "packed-vinyl",
   "metadata": {},
   "source": [
    "![LOGO](https://mmbiz.qpic.cn/mmbiz_png/dV0Pt26LydDKo3HFIeH8afhT8XCmZibWhmj4vuVyuyGQrb0U4vIicibd5xjQKPOib7ibhFRWia9mdbz8uyricY9ZbDgXg/640)\n",
    "\n",
    "[![github license](https://img.shields.io/badge/license-LGPLv3-blue.svg)](https://www.gnu.org/licenses/lgpl-3.0.en.html)\n",
    "\n",
    "--------------------------------------------------------------------------------\n",
    "\n",
    "[中文版](./README_CN.ipynb)\n",
    "\n",
    "# Rosetta Overview\n",
    "\n",
    "Rosetta is a privacy-preserving framework based on [TensorFlow](https://www.tensorflow.org). It integrates with mainstream privacy-preserving computation technologies, including cryptography, federated learning and trusted execution environment. Rosetta aims to provide privacy-preserving solutions for artificial intelligence without requiring expertise in cryptography, federated learning and trusted execution environment. Rosetta reuses the APIs of TensorFlow and allows to transfer traditional TensorFlow codes into a privacy-preserving manner with minimal changes. E.g., just add the following line."
   ]
  },
  {
   "cell_type": "markdown",
   "id": "backed-serum",
   "metadata": {},
   "source": [
    "```python\n",
    "import latticex.rosetta\n",
    "```\n"
   ]
  },
  {
   "cell_type": "markdown",
   "id": "historical-pitch",
   "metadata": {},
   "source": [
    "The current version integrates the secure multi-party computation protocols for 3 parties. The underlying protocol is [SecureNN](https://eprint.iacr.org/2018/442.pdf). It is secure in the semi-honest model with honest majority.\n",
    "\n",
    "## Installation\n",
    "\n",
    "For now, Rosetta runs on Ubuntu 18.04, and is based on TensorFlow 1.14 with CPUs (Windows OS is not currently supported yet). You can install Rosetta as follows.\n",
    "\n",
    "First, please check that your local system meets our [base environment requirement](doc/DEPLOYMENT.md#rosetta-deployment-guide).\n",
    "\n",
    "Then install the native TensorFlow with the following codes. Note that you could also install it from source code, check [here](doc/TENSORFLOW_INSTALL.ipynb) for details."
   ]
  },
  {
   "cell_type": "markdown",
   "id": "least-saturday",
   "metadata": {},
   "source": [
    "```bash\n",
    "# install tensorflow\n",
    "pip3 install tensorflow==1.14.0\n",
    "```\n"
   ]
  },
  {
   "cell_type": "markdown",
   "id": "current-control",
   "metadata": {},
   "source": [
    "And then build and install Rosetta with our all-in-one script as follows."
   ]
  },
  {
   "cell_type": "markdown",
   "id": "elder-cliff",
   "metadata": {},
   "source": [
    "```bash\n",
    "# clone rosetta git repository\n",
    "git clone https://github.com/LatticeX-Foundation/Rosetta.git\n",
    "cd Rosetta\n",
    "# compile, install and run test cases\n",
    "bash compile_and_test_all.sh\n",
    "```\n"
   ]
  },
  {
   "cell_type": "markdown",
   "id": "frequent-register",
   "metadata": {},
   "source": [
    "Before running your program, you should configure with your network topology so that a distributed network can be established for parties to communicate with each other.\n",
    "\n",
    "<img src='doc/_static/figs/deployment.png'  width = \"667\" height = \"400\" align=\"middle\"/>\n",
    "\n",
    "You could use an example to check everything runs OK. Please refer to [Deployment Guide](doc/DEPLOYMENT.ipynb) for the detailed steps of installation, configuration and deployment of Rosetta.\n",
    "\n",
    "## Usage\n",
    "\n",
    "The following is a toy [example](example/tutorials/code/rosetta_demo.py) for matrix multiplication using Rosetta.\n",
    "\n",
    "In this example, we assume that three guys want to get the product of their private matrix, while do not want others to know what they hold. For brevity, we call them P0, P1 and P2.\n",
    "\n",
    "With Rosetta, each of them can run the following script, from which you can see that only a small amount of codes are needed besides the native TensorFlow lines."
   ]
  },
  {
   "cell_type": "markdown",
   "id": "choice-ethernet",
   "metadata": {},
   "source": [
    "```python\n",
    "#!/usr/bin/env python3\n",
    "\n",
    "# Import rosetta package\n",
    "import latticex.rosetta as rtt\n",
    "import tensorflow as tf\n",
    "\n",
    "# You can activate a backend protocol, here we use SecureNN\n",
    "rtt.activate(\"SecureNN\")\n",
    "\n",
    "# Get private data from every party\n",
    "matrix_a = tf.Variable(rtt.private_console_input(0, shape=(3, 2)))\n",
    "matrix_b = tf.Variable(rtt.private_console_input(1, shape=(2, 1)))\n",
    "matrix_c = tf.Variable(rtt.private_console_input(2, shape=(1, 4)))\n",
    "\n",
    "# Just use the native tf.matmul operation.\n",
    "cipher_result = tf.matmul(tf.matmul(matrix_a, matrix_b), matrix_c)\n",
    "\n",
    "# Start execution\n",
    "with tf.Session() as sess:\n",
    "    sess.run(tf.global_variables_initializer())\n",
    "    # Take a glance at the ciphertext\n",
    "    cipher_result = sess.run(cipher_result)\n",
    "    print('local ciphertext result:', cipher_result)\n",
    "    # Set only party a and c can get plain result\n",
    "    a_and_c_can_get_plain = 0b101 \n",
    "    # Get the result of Rosetta matmul\n",
    "    print('plaintext matmul result:', sess.run(rtt.SecureReveal(cipher_result, a_and_c_can_get_plain)))\n",
    "```\n"
   ]
  },
  {
   "cell_type": "markdown",
   "id": "after-foster",
   "metadata": {},
   "source": [
    "To run this jointly, after configuring networks, the three guys can run the following command-line respectively:"
   ]
  },
  {
   "cell_type": "markdown",
   "id": "mighty-familiar",
   "metadata": {},
   "source": [
    "```bash\n",
    "python rosetta_demo.py --party_id=0\n",
    "```\n"
   ]
  },
  {
   "cell_type": "markdown",
   "id": "surrounded-permit",
   "metadata": {},
   "source": [
    ","
   ]
  },
  {
   "cell_type": "markdown",
   "id": "demographic-violin",
   "metadata": {},
   "source": [
    "```bash\n",
    "python rosetta_demo.py --party_id=1\n",
    "```\n"
   ]
  },
  {
   "cell_type": "markdown",
   "id": "preceding-contrary",
   "metadata": {},
   "source": [
    "and"
   ]
  },
  {
   "cell_type": "markdown",
   "id": "loaded-indie",
   "metadata": {},
   "source": [
    "```bash\n",
    "python rosetta_demo.py --party_id=2\n",
    "```\n"
   ]
  },
  {
   "cell_type": "markdown",
   "id": "computational-analyst",
   "metadata": {},
   "source": [
    "Then each party will be prompted to input his private matrix, for example P0 may have:\n",
    "\n",
    "> [2020-07-29 20:10:49.070] [info] Rosetta: Protocol [SecureNN] backend initialization succeeded!\n",
    ">\n",
    "> please input the private data (float or integer, 6 items, separated by space): 2 3 1 7 6 2\n",
    "\n",
    "Note that input from console like this is purely for pedagogical purpose in this toy example. See our [Doc](doc/API_DOC.ipynb) for production-ready data APIs.\n",
    "\n",
    "At the end, P0 and P2 will get the plaintext output while P1 dose not, just as required. Specifically, P0 and P2 may have:\n",
    "\n",
    "> plaintext matmul result: [[b'8.000000' b'14.000000' b'18.000000' b'4.000000']\n",
    "> [b'4.000000' b'7.000000' b'9.000000' b'2.000000']\n",
    "> [b'24.000000' b'42.000000' b'54.000000' b'12.000000']]\n",
    ">\n",
    "> [2020-07-29 20:11:06.452] [info] Rosetta: Protocol [SecureNN] backend has been released.\n",
    "\n",
    "while P1 has:\n",
    "> plaintext matmul result: [[b'0.000000' b'0.000000' b'0.000000' b'0.000000']\n",
    "> [b'0.000000' b'0.000000' b'0.000000' b'0.000000']\n",
    "> [b'0.000000' b'0.000000' b'0.000000' b'0.000000']]\n",
    ">\n",
    "> [2020-07-29 20:11:06.452] [info] Rosetta: Protocol [SecureNN] backend has been released.\n",
    "\n",
    "That's all, you can see Rosetta is so easy to use.\n",
    "\n",
    "For more details, please check [Tutorials](doc/TUTORIALS.ipynb) and [Examples](./example).\n",
    "\n",
    "> Note: Currently Rosetta already supports 128-bit integer data type, which can be enabled by configuring the environment variable `export ROSETTA_MPC_128=ON`.\n",
    "\n",
    "## Getting Started\n",
    "\n",
    "To help you start with your first workable program with Rosetta easily, our [Tutorials](doc/TUTORIALS.ipynb) will lead you to this fantastic world. In this detailed tutorials, we will assist you learn the basic concepts about Rosetta, then show you how to use the interfaces that we provide by easy-to-understand examples, and finally help you build a workable privacy-preserving machine learning model on real-world datasets.\n",
    "\n",
    "Hopefully, this tutorial, and more other examples in [Examples](./example), will whet your appetite to dive in knowing more about this privacy-preserving framework.\n",
    "\n",
    "## How Rosetta Works\n",
    "\n",
    "Rosetta works by extending and hacking both Python frontend and the Operation Kernels in backend of TensorFlow. It decouples the development of TensorFlow-related components and privacy technology so that both developers from AI and cryptography can focus on what they are interested.\n",
    "\n",
    "<img src='doc/_static/figs/architecture_detail_en.png' width = \"700\" height = \"600\" align=\"middle\"/>\n",
    "\n",
    "When running your Rosetta program, firstly the native TensorFlow data flow graph will be converted, and during this process the native Operations within the graph will be replaced with SecureOps.\n",
    "\n",
    "<img src='doc/_static/figs/static_pass.png' width = \"800\" height = \"400\" align=\"middle\"/>\n",
    "\n",
    "And at the second stage, the backend kernels of operations, implemented with specific cryptographic protocol, will be called to carry out underlying secure computation.\n",
    "\n",
    "<img src='doc/_static/figs/dynamic_pass.png' width = \"800\" height = \"400\" align=\"middle\"/>\n",
    "\n",
    "## Contributing to Rosetta\n",
    "\n",
    "Rosetta is an open source project developed under the LPGLv3 license and maintained by [LatticeX Foundation](https://latticex.foundation/). Contributions from individuals and organizations are all welcome. Before beginning, please take a look at our [contributing guidelines](CONTRIBUTING.ipynb). Our project adheres to [code of conduct](CODE_OF_CONDUCT.ipynb). By participating in our community, you are expected to uphold this code. You could also open an issue by clicking [here](https://github.com/LatticeX-Foundation/Rosetta/issues/new).\n",
    "\n",
    "## Documents List\n",
    "\n",
    "* [Rosetta Tutorials](doc/TUTORIALS.ipynb)\n",
    "\n",
    "* [Rosetta Deployment Guide](doc/DEPLOYMENT.ipynb)\n",
    "\n",
    "* [Rosetta User API](doc/API_DOC.ipynb)\n",
    "\n",
    "* [Rosetta WhitePaper](doc/Rosetta_whitepaper.pdf)\n",
    "\n",
    "* [Rosetta Glossary](doc/GLOSSARY.ipynb)\n",
    "\n",
    "* [Rosetta Release Notes](RELEASE.ipynb)\n",
    "\n",
    "## Contact\n",
    "\n",
    "You could reach us by [email](mailto:rosetta@latticex.foundation). **And you are welcome to join Rosetta community on [Slack](https://join.slack.com/t/latticexrosetta/shared_invite/zt-dum6j65d-MTxp~Bxq5OwouJW8zUKB1Q) to ask any questions and discuss on any interesting topics with other developers**.\n",
    "\n",
    "## License\n",
    "\n",
    "The Rosetta library is licensed under the [GNU Lesser General Public License v3.0](COPYING.LESSER)."
   ]
  }
 ],
 "metadata": {
  "language_info": {
   "name": "python"
  }
 },
 "nbformat": 4,
 "nbformat_minor": 5
}